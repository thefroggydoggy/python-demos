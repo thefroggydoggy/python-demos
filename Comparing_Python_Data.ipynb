{
  "nbformat": 4,
  "nbformat_minor": 0,
  "metadata": {
    "colab": {
      "name": "Comparing Python Data.ipynb",
      "provenance": [],
      "authorship_tag": "ABX9TyOkqvf/AIoLLIszbtU/NAm2",
      "include_colab_link": true
    },
    "kernelspec": {
      "name": "python3",
      "display_name": "Python 3"
    },
    "language_info": {
      "name": "python"
    }
  },
  "cells": [
    {
      "cell_type": "markdown",
      "metadata": {
        "id": "view-in-github",
        "colab_type": "text"
      },
      "source": [
        "<a href=\"https://colab.research.google.com/github/thefroggydoggy/python-demos/blob/main/Comparing_Python_Data.ipynb\" target=\"_parent\"><img src=\"https://colab.research.google.com/assets/colab-badge.svg\" alt=\"Open In Colab\"/></a>"
      ]
    },
    {
      "cell_type": "markdown",
      "source": [
        "# Comparing data with Python\n",
        "\n",
        "Comparing data of various structures is an integral part of being able to verify that your solution works properly. It will often be the case that you have a way to work with known inputs and known results. Knowing how to effectively compare data will help you in devising unit tests for functions you develop."
      ],
      "metadata": {
        "id": "DwI3p9pI39La"
      }
    },
    {
      "cell_type": "markdown",
      "source": [
        "# Basic Python Types\n",
        "\n",
        "The `int`, `str`, `float` `bool` objects can all be compared based on their `type` and by their value. Depending on your use case the `type` may or may not be important, as long as the values are equivalent."
      ],
      "metadata": {
        "id": "3cxVxnjR50SZ"
      }
    },
    {
      "cell_type": "code",
      "execution_count": 13,
      "metadata": {
        "colab": {
          "base_uri": "https://localhost:8080/"
        },
        "id": "cMCoddbS3Rd7",
        "outputId": "efd3a675-fc09-4429-a851-96d883b3a355"
      },
      "outputs": [
        {
          "output_type": "stream",
          "name": "stdout",
          "text": [
            "isinstance(my_int, type(true_int)) -> True\n",
            "isinstance(my_wrong_int, type(true_int)) -> True\n",
            "isinstance(my_float, type(true_int)) -> False\n",
            "isinstance(my_str, type(true_str)) -> True\n",
            "my_float == true_int -> True\n",
            "my_wrong_str == true_str -> False\n",
            "abs(my_float - true_float) <= float_tolerances[0] -> True\n",
            "True\n",
            "False\n"
          ]
        }
      ],
      "source": [
        "my_int = 6040\n",
        "my_wrong_int = 6041\n",
        "my_float = 6040.0\n",
        "my_wrong_float = 6040.1\n",
        "true_float = 6040.0\n",
        "true_int = 6040\n",
        "float_tolerances = [0.2, 2**(-16)]\n",
        "my_str = 'froggy'\n",
        "my_wrong_str = 'Froggy'\n",
        "true_str = 'froggy'\n",
        "\n",
        "### Compare types - use `isinstance`\n",
        "print(\n",
        "    f'isinstance(my_int, type(true_int)) -> {isinstance(my_int, type(true_int))}', # True\n",
        "    f'isinstance(my_wrong_int, type(true_int)) -> {isinstance(my_wrong_int, type(true_int))}', # True\n",
        "    f'isinstance(my_float, type(true_int)) -> {isinstance(my_float, type(true_int))}', # False\n",
        "    f'isinstance(my_str, type(true_str)) -> {isinstance(my_str, type(true_str))}', # True\n",
        "    sep='\\n'\n",
        ")\n",
        "### Compare value\n",
        "print(\n",
        "    f'my_float == true_int -> {my_float == true_int}', # True\n",
        "    f'my_wrong_str == true_str -> {my_wrong_str == true_str}', # False\n",
        "    ### Floats should be checked for being \"close enough\" - what that mean depends on the use case.\n",
        "    f'abs(my_float - true_float) <= float_tolerances[0] -> {abs(my_float - true_float) <= float_tolerances[0]}', # True\n",
        "    abs(my_wrong_float - true_float) <= float_tolerances[0], # True (wide tolerance)\n",
        "    abs(my_wrong_float - true_float) <= float_tolerances[1], # False (narrower tolerance)\n",
        "    sep='\\n'\n",
        ")"
      ]
    },
    {
      "cell_type": "markdown",
      "source": [
        "## Basic Python data structures\n",
        "\n",
        "- `list` and `tuple` types are equal when...\n",
        "  - Both are the same length.\n",
        "  - All objects at corresponding index are equal.\n",
        "  - Compare by verifying length and iterating through objects checking for equality.\n",
        "- `dict` types are equal when...\n",
        "  - Both dicts have the same keys.\n",
        "  - The values associated with each key are equal.\n",
        "  - Compare by verifying keys are the same and iterating through objects checking for equality.\n",
        "- `set` types are equal when both contain the same values.\n",
        "  - Compare by casting to sorted list and comparing as if it were a list."
      ],
      "metadata": {
        "id": "3Z8CAeDgW4yR"
      }
    },
    {
      "cell_type": "markdown",
      "source": [
        "## Handling nested data structures\n",
        "\n",
        "The basic Python data structures can be nested in an infinite number of patterns. We can implement a recursive solution to compare them. Here's the strategy:\n",
        "\n",
        "1. Determine the types for the objects being compared.\n",
        "2. Use comparison strategy outlined above for the appropriate type to determine equality.\n",
        "3. Use a recursive call to determine equality of child objects.\n",
        "  - Base types do not make a recursive call since there are no children.\n",
        "  - Unrecognized or mismatched types return `False`."
      ],
      "metadata": {
        "id": "Gj8EZl7ycn8u"
      }
    },
    {
      "cell_type": "code",
      "source": [
        "def compare_nested_data(a, b, lvl=0, tolerance=2**(-16), verbose=False):\n",
        "  ### Define Helper functions\n",
        "\n",
        "  ### Compares Lists or Tuples\n",
        "  def compare_lists(a, b, lvl=0, verbose=False):\n",
        "    ### check length\n",
        "    if len(a) != len(b):\n",
        "      if verbose: print(f'lvl {lvl}: lists/tuples different lengths')\n",
        "      return False\n",
        "    ### iterate over objects and compare recursively\n",
        "    for i, (ai, bi) in enumerate(zip(a, b)):\n",
        "      c = compare_nested_data(ai, bi, lvl+1, verbose=verbose)\n",
        "      if not c:\n",
        "        if verbose: print(f'lvl {lvl}: mismatch at index {i}: {a} is not equal to {b}')\n",
        "        return False\n",
        "    return True\n",
        "  ### Compares Dictionaries\n",
        "  def compare_dicts(a, b, lvl=0, verbose=False):\n",
        "    ### Check keys\n",
        "    keys_match = a.keys() == b.keys()\n",
        "    if not keys_match:\n",
        "      if verbose: print(f'lvl {lvl}: keys do not match: mismatched keys - a: {(a.keys() - b.keys())}, b:  {(b.keys() - a.keys())}')\n",
        "      return False\n",
        "    ### Iterate over values and compare recursively\n",
        "    for k in a.keys():\n",
        "      c = compare_nested_data(a[k], b[k], lvl+1, verbose=verbose)\n",
        "      if not c:\n",
        "        if verbose: print(f'lvl {lvl}: mismatch at key {k}: {a[k]} is not equal to {b[k]}')\n",
        "        return False\n",
        "    return True\n",
        "\n",
        "  ### Handle different types\n",
        "\n",
        "  ### Handle lists/tuples\n",
        "  if (isinstance(a, tuple) and isinstance(b, tuple)) or (isinstance(a, list) and isinstance(b, list)):\n",
        "    return compare_lists(a,b, lvl, verbose=verbose)\n",
        "  ### Handle sets\n",
        "  if (isinstance(a, set) and isinstance(b, set)):\n",
        "    return compare_lists(sorted(a), sorted(b), lvl, verbose=verbose)\n",
        "  ### Handle dicts\n",
        "  if isinstance(a, dict) and isinstance(b, dict):\n",
        "    return compare_dicts(a, b, lvl, verbose=verbose)\n",
        "  ### Handle base type float\n",
        "  if isinstance(a, float) and isinstance(b, float):\n",
        "    if (abs(a - b) > tolerance):\n",
        "      if verbose: print(f'lvl {lvl}: {a} is different from {b}')\n",
        "      return False\n",
        "    return True\n",
        "  ### Handle other base types\n",
        "  if (isinstance(a, str) and isinstance(b, str)) or (isinstance(a, int) and isinstance(b, int)) or (isinstance(a, bool) and isinstance(b, bool)):\n",
        "    if (a != b):\n",
        "      if verbose: print(f'lvl {lvl}: {a} is different from {b}')\n",
        "      return False\n",
        "    return True\n",
        "  if verbose: print(f'Either type mismatch between a({type(a)}) and b({type(b)}) or unsupported type.')\n",
        "  return False\n"
      ],
      "metadata": {
        "id": "jOcquLrUc4GL"
      },
      "execution_count": 78,
      "outputs": []
    },
    {
      "cell_type": "code",
      "source": [
        "compare_nested_data(tuple_c, tuple_b, verbose=True)\n",
        "print()\n",
        "compare_nested_data({(1,2), (3, ('foo', 'bar'))},\n",
        "    {(1,2), (1,2), (3, ('foo',))})\n",
        "print()\n",
        "compare_nested_data({'foo':{'lower level': 3}, 'bar': {'something': {'else': 4}}}, \n",
        "    {'foo':{'lower level': 3}, 'baz': {'something': {'else': 3}}})\n",
        "print()\n",
        "compare_nested_data(tuple_c, list_b)\n",
        "print()"
      ],
      "metadata": {
        "colab": {
          "base_uri": "https://localhost:8080/"
        },
        "id": "8MfnU5-Yow1N",
        "outputId": "2a76db0d-7a67-4a07-f61f-6d6c31a245e1"
      },
      "execution_count": 79,
      "outputs": [
        {
          "output_type": "stream",
          "name": "stdout",
          "text": [
            "lvl 2: 4 is different from 1\n",
            "lvl 1: mismatch at index 0: [4, 2, 3, 1, 4, 2, 3, 1] is not equal to [1, 2, 3, 4, 1, 2, 3, 4]\n",
            "lvl 0: mismatch at index 1: ([1, 2, 3, 4, 1, 2, 3, 4], [4, 2, 3, 1, 4, 2, 3, 1]) is not equal to ([1, 2, 3, 4, 1, 2, 3, 4], [1, 2, 3, 4, 1, 2, 3, 4])\n",
            "\n",
            "\n",
            "\n",
            "\n"
          ]
        }
      ]
    },
    {
      "cell_type": "code",
      "source": [
        ""
      ],
      "metadata": {
        "id": "_GP--G8is3u7"
      },
      "execution_count": null,
      "outputs": []
    }
  ]
}